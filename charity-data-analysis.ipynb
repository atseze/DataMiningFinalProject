{
 "cells": [
  {
   "cell_type": "code",
   "execution_count": null,
   "metadata": {
    "_kg_hide-output": true,
    "trusted": true
   },
   "outputs": [],
   "source": [
    "# pip install ydata_profiling"
   ]
  },
  {
   "cell_type": "markdown",
   "metadata": {},
   "source": [
    "# Reading data and generate dataset profiles"
   ]
  },
  {
   "cell_type": "code",
   "execution_count": null,
   "metadata": {
    "_kg_hide-output": true,
    "trusted": true
   },
   "outputs": [],
   "source": [
    "import pandas as pd\n",
    "# from ydata_profiling import ProfileReport\n",
    "\n",
    "donor_df = pd.read_csv(\"BenefactorsData.csv\")\n",
    "# donor_profile = ProfileReport(donor_df, title = \"Donors Data\")\n",
    "# donor_profile.to_file(\"Donors Data Profile.html\")\n",
    "\n",
    "payment_df = pd.read_csv(\"TransactionalData.csv\")\n",
    "# payment_profile = ProfileReport(payment_df, title = \"Payments Transactions\")\n",
    "# payment_profile.to_file(\"Payments Data Profile.html\")"
   ]
  },
  {
   "cell_type": "code",
   "execution_count": null,
   "metadata": {
    "trusted": true
   },
   "outputs": [],
   "source": [
    "merged_df = pd.merge(donor_df, payment_df, on=\"UserID\")\n",
    "print(merged_df)\n",
    "merged_df.to_csv(\"merged_dataset.csv\")"
   ]
  }
 ],
 "metadata": {
  "kaggle": {
   "accelerator": "none",
   "dataSources": [
    {
     "datasetId": 7031133,
     "sourceId": 11251613,
     "sourceType": "datasetVersion"
    }
   ],
   "dockerImageVersionId": 30918,
   "isGpuEnabled": false,
   "isInternetEnabled": true,
   "language": "python",
   "sourceType": "notebook"
  },
  "kernelspec": {
   "display_name": "Python 3",
   "language": "python",
   "name": "python3"
  },
  "language_info": {
   "codemirror_mode": {
    "name": "ipython",
    "version": 3
   },
   "file_extension": ".py",
   "mimetype": "text/x-python",
   "name": "python",
   "nbconvert_exporter": "python",
   "pygments_lexer": "ipython3",
   "version": "3.13.2"
  }
 },
 "nbformat": 4,
 "nbformat_minor": 4
}
