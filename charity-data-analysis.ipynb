{
 "cells": [
  {
   "cell_type": "code",
   "execution_count": null,
   "metadata": {
    "_kg_hide-output": true,
    "trusted": true
   },
   "outputs": [],
   "source": [
    "# pip install ydata_profiling"
   ]
  },
  {
   "cell_type": "markdown",
   "metadata": {},
   "source": [
    "# Reading data and make them ready to work"
   ]
  },
  {
   "cell_type": "code",
   "execution_count": null,
   "metadata": {
    "_kg_hide-output": true,
    "trusted": true
   },
   "outputs": [],
   "source": [
    "import pandas as pd\n",
    "# from ydata_profiling import ProfileReport\n",
    "\n",
    "donor_df = pd.read_csv(\"BenefactorsData.csv\")\n",
    "# donor_profile = ProfileReport(donor_df, title = \"Donors Data\")\n",
    "# donor_profile.to_file(\"Donors Data Profile.html\")\n",
    "\n",
    "payment_df = pd.read_csv(\"TransactionalData.csv\")\n",
    "# payment_profile = ProfileReport(payment_df, title = \"Payments Transactions\")\n",
    "# payment_profile.to_file(\"Payments Data Profile.html\")"
   ]
  },
  {
   "cell_type": "code",
   "execution_count": null,
   "metadata": {},
   "outputs": [],
   "source": [
    "donor_df.info()\n",
    "payment_df.info()"
   ]
  },
  {
   "cell_type": "markdown",
   "metadata": {},
   "source": [
    "Merge datasets"
   ]
  },
  {
   "cell_type": "code",
   "execution_count": null,
   "metadata": {
    "trusted": true
   },
   "outputs": [],
   "source": [
    "merged_df = pd.merge(donor_df, payment_df, on=\"UserID\")\n",
    "merged_df.to_csv(\"merged_dataset.csv\")"
   ]
  },
  {
   "cell_type": "markdown",
   "metadata": {},
   "source": [
    "Add summary data to Donor Dataset"
   ]
  },
  {
   "cell_type": "code",
   "execution_count": null,
   "metadata": {},
   "outputs": [],
   "source": [
    "# Calculate the number of records and sum of payments for each UserID in the Payment dataset\n",
    "payment_summary = payment_df.groupby('UserID').agg(\n",
    "    NumPayments=('TransID', 'count'),\n",
    "    TotalPayment=('PaymentAmount', 'sum')\n",
    ").reset_index()\n",
    "\n",
    "# Merge the summary back into the Donor dataset\n",
    "donor_df = donor_df.merge(payment_summary, on='UserID', how='left')\n",
    "#print(donor_df)"
   ]
  },
  {
   "cell_type": "markdown",
   "metadata": {},
   "source": [
    "# Check the dependency between Gender and number of payments and total payments"
   ]
  },
  {
   "cell_type": "code",
   "execution_count": null,
   "metadata": {},
   "outputs": [],
   "source": [
    "# Find the 10 greatest values for NumPayments\n",
    "top_num_payments = donor_df.nlargest(20, 'NumPayments')\n",
    "print(\"Top 10 NumPayments:\")\n",
    "print(top_num_payments)\n",
    "\n",
    "# Find the 10 greatest values for TotalPayment\n",
    "top_total_payments = donor_df.nlargest(20, 'TotalPayment')\n",
    "print(\"\\nTop 10 TotalPayment:\")\n",
    "print(top_total_payments)"
   ]
  },
  {
   "cell_type": "code",
   "execution_count": null,
   "metadata": {},
   "outputs": [],
   "source": [
    "from scipy.stats import ttest_ind\n",
    "import numpy as np\n",
    "\n",
    "# Remove nan values\n",
    "donor_df = donor_df.dropna(subset=['Gender', 'NumPayments', 'TotalPayment'])\n",
    "\n",
    "# Coding gender values\n",
    "donor_df['GenderNumeric'] = donor_df['Gender'].map({'M': 0, 'F': 1})\n",
    "\n",
    "print(donor_df)\n",
    "\n",
    "\n",
    "male_data = donor_df[donor_df['GenderNumeric'] == 0]\n",
    "female_data = donor_df[donor_df['GenderNumeric'] == 1]\n",
    "\n",
    "# Perform t-tests for NumPayments and TotalPayment\n",
    "num_payments_test = ttest_ind(male_data['NumPayments'], female_data['NumPayments'], equal_var=False)\n",
    "total_payment_test = ttest_ind(male_data['TotalPayment'], female_data['TotalPayment'], equal_var=False)\n",
    "\n",
    "# Print results\n",
    "print(\"T-test for NumPayments (Gender Dependency):\")\n",
    "print(f\"Statistic: {num_payments_test.statistic}, p-value: {num_payments_test.pvalue}\")\n",
    "\n",
    "print(\"\\nT-test for TotalPayment (Gender Dependency):\")\n",
    "print(f\"Statistic: {total_payment_test.statistic}, p-value: {total_payment_test.pvalue}\")\n",
    "\n",
    "# Result\n",
    "# T-test for NumPayments (Gender Dependency):\n",
    "# Statistic: 20.404277170355236, p-value: 1.8268465392917694e-92\n",
    "# T-test for TotalPayment (Gender Dependency):\n",
    "# Statistic: 4.543933993934602, p-value: 5.524716571142883e-06\n",
    "\n",
    "# There is a significant relationship between gender and NumPayments\n",
    "# There is a significant relationship between gender and TotalPayment"
   ]
  },
  {
   "cell_type": "markdown",
   "metadata": {},
   "source": [
    "# Visualize the result"
   ]
  },
  {
   "cell_type": "code",
   "execution_count": null,
   "metadata": {},
   "outputs": [],
   "source": [
    "import matplotlib.pyplot as plt\n",
    "import seaborn as sns\n",
    "\n",
    "# Set up the plotting style\n",
    "#sns.set(style=\"whitegrid\")\n",
    "\n",
    "# Create a figure with two subplots\n",
    "fig, axes = plt.subplots(1, 2, figsize=(14, 6))\n",
    "\n",
    "# Boxplot for NumPayments by Gender\n",
    "sns.boxplot(data=donor_df, x='Gender', y='NumPayments', ax=axes[0])\n",
    "axes[0].set_title(\"NumPayments by Gender\")\n",
    "axes[0].set_xlabel(\"Gender\")\n",
    "axes[0].set_ylabel(\"NumPayments\")\n",
    "\n",
    "# Boxplot for TotalPayment by Gender\n",
    "sns.boxplot(data=donor_df, x='Gender', y='TotalPayment', ax=axes[1])\n",
    "axes[1].set_title(\"TotalPayment by Gender\")\n",
    "axes[1].set_xlabel(\"Gender\")\n",
    "axes[1].set_ylabel(\"TotalPayment\")\n",
    "\n",
    "# Show the plots\n",
    "#plt.tight_layout()\n",
    "plt.show()"
   ]
  },
  {
   "cell_type": "code",
   "execution_count": null,
   "metadata": {},
   "outputs": [],
   "source": [
    "# Group by Gender and calculate the mean of NumPayments and TotalPayment\n",
    "group_stats = donor_df.groupby('Gender').agg({\n",
    "    'NumPayments': 'mean',\n",
    "    'TotalPayment': 'mean'\n",
    "}).reset_index()\n",
    "\n",
    "print(group_stats)"
   ]
  }
 ],
 "metadata": {
  "kaggle": {
   "accelerator": "none",
   "dataSources": [
    {
     "datasetId": 7031133,
     "sourceId": 11251613,
     "sourceType": "datasetVersion"
    }
   ],
   "dockerImageVersionId": 30918,
   "isGpuEnabled": false,
   "isInternetEnabled": true,
   "language": "python",
   "sourceType": "notebook"
  },
  "kernelspec": {
   "display_name": "Python 3",
   "language": "python",
   "name": "python3"
  },
  "language_info": {
   "codemirror_mode": {
    "name": "ipython",
    "version": 3
   },
   "file_extension": ".py",
   "mimetype": "text/x-python",
   "name": "python",
   "nbconvert_exporter": "python",
   "pygments_lexer": "ipython3",
   "version": "3.13.2"
  }
 },
 "nbformat": 4,
 "nbformat_minor": 4
}
